{
 "cells": [
  {
   "cell_type": "code",
   "execution_count": 21,
   "id": "05165c57",
   "metadata": {},
   "outputs": [
    {
     "name": "stdout",
     "output_type": "stream",
     "text": [
      "The autoreload extension is already loaded. To reload it, use:\n",
      "  %reload_ext autoreload\n"
     ]
    }
   ],
   "source": [
    "%load_ext autoreload\n",
    "%autoreload 2"
   ]
  },
  {
   "cell_type": "code",
   "execution_count": 2,
   "id": "ac23f38e",
   "metadata": {},
   "outputs": [
    {
     "name": "stdout",
     "output_type": "stream",
     "text": [
      "Collecting package metadata (current_repodata.json): done\n",
      "Solving environment: done\n",
      "\n",
      "\n",
      "==> WARNING: A newer version of conda exists. <==\n",
      "  current version: 4.10.3\n",
      "  latest version: 4.11.0\n",
      "\n",
      "Please update conda by running\n",
      "\n",
      "    $ conda update -n base -c defaults conda\n",
      "\n",
      "\n",
      "\n",
      "# All requested packages already installed.\n",
      "\n"
     ]
    }
   ],
   "source": [
    "import sys\n",
    "sys.path.append(\"../\")\n",
    "# !conda install --yes --prefix {sys.prefix} gensim\n"
   ]
  },
  {
   "cell_type": "code",
   "execution_count": 7,
   "id": "0908d1e6",
   "metadata": {},
   "outputs": [],
   "source": [
    "# Setting up N2VEC parameters \n",
    "from topsy_turvy.comparison_methods.n2vec_embedding import compute_embedding\n",
    "\n",
    "input_folder  = \"../datasets/Analysis/\"\n",
    "output_folder = \"../datasets/Analysis/\"\n",
    "network       = \"fly_ppi\""
   ]
  },
  {
   "cell_type": "code",
   "execution_count": 14,
   "id": "3957eb72",
   "metadata": {},
   "outputs": [
    {
     "data": {
      "text/html": [
       "<div>\n",
       "<style scoped>\n",
       "    .dataframe tbody tr th:only-of-type {\n",
       "        vertical-align: middle;\n",
       "    }\n",
       "\n",
       "    .dataframe tbody tr th {\n",
       "        vertical-align: top;\n",
       "    }\n",
       "\n",
       "    .dataframe thead th {\n",
       "        text-align: right;\n",
       "    }\n",
       "</style>\n",
       "<table border=\"1\" class=\"dataframe\">\n",
       "  <thead>\n",
       "    <tr style=\"text-align: right;\">\n",
       "      <th></th>\n",
       "      <th>p</th>\n",
       "      <th>q</th>\n",
       "      <th>weight</th>\n",
       "    </tr>\n",
       "  </thead>\n",
       "  <tbody>\n",
       "    <tr>\n",
       "      <th>0</th>\n",
       "      <td>163</td>\n",
       "      <td>2349</td>\n",
       "      <td>0.898801</td>\n",
       "    </tr>\n",
       "    <tr>\n",
       "      <th>1</th>\n",
       "      <td>3283</td>\n",
       "      <td>1459</td>\n",
       "      <td>0.004207</td>\n",
       "    </tr>\n",
       "    <tr>\n",
       "      <th>2</th>\n",
       "      <td>1725</td>\n",
       "      <td>1565</td>\n",
       "      <td>0.394838</td>\n",
       "    </tr>\n",
       "    <tr>\n",
       "      <th>3</th>\n",
       "      <td>455</td>\n",
       "      <td>2894</td>\n",
       "      <td>0.004177</td>\n",
       "    </tr>\n",
       "    <tr>\n",
       "      <th>4</th>\n",
       "      <td>245</td>\n",
       "      <td>19</td>\n",
       "      <td>0.004201</td>\n",
       "    </tr>\n",
       "    <tr>\n",
       "      <th>...</th>\n",
       "      <td>...</td>\n",
       "      <td>...</td>\n",
       "      <td>...</td>\n",
       "    </tr>\n",
       "    <tr>\n",
       "      <th>27465</th>\n",
       "      <td>351</td>\n",
       "      <td>6</td>\n",
       "      <td>0.004178</td>\n",
       "    </tr>\n",
       "    <tr>\n",
       "      <th>27466</th>\n",
       "      <td>3420</td>\n",
       "      <td>1722</td>\n",
       "      <td>0.987240</td>\n",
       "    </tr>\n",
       "    <tr>\n",
       "      <th>27467</th>\n",
       "      <td>1559</td>\n",
       "      <td>1386</td>\n",
       "      <td>0.985707</td>\n",
       "    </tr>\n",
       "    <tr>\n",
       "      <th>27468</th>\n",
       "      <td>2287</td>\n",
       "      <td>1202</td>\n",
       "      <td>0.004253</td>\n",
       "    </tr>\n",
       "    <tr>\n",
       "      <th>27469</th>\n",
       "      <td>201</td>\n",
       "      <td>389</td>\n",
       "      <td>0.971406</td>\n",
       "    </tr>\n",
       "  </tbody>\n",
       "</table>\n",
       "<p>27470 rows × 3 columns</p>\n",
       "</div>"
      ],
      "text/plain": [
       "          p     q    weight\n",
       "0       163  2349  0.898801\n",
       "1      3283  1459  0.004207\n",
       "2      1725  1565  0.394838\n",
       "3       455  2894  0.004177\n",
       "4       245    19  0.004201\n",
       "...     ...   ...       ...\n",
       "27465   351     6  0.004178\n",
       "27466  3420  1722  0.987240\n",
       "27467  1559  1386  0.985707\n",
       "27468  2287  1202  0.004253\n",
       "27469   201   389  0.971406\n",
       "\n",
       "[27470 rows x 3 columns]"
      ]
     },
     "execution_count": 14,
     "metadata": {},
     "output_type": "execute_result"
    }
   ],
   "source": [
    "import pandas as pd\n",
    "import json\n",
    "# Given a network file \n",
    "\"\"\"\n",
    "net_file       = f\"{input_folder}/{network}.tsv\"\n",
    "json_file      = f\"{output_folder}/{network}_nodemap.json\"\n",
    "df    = pd.read_csv(net_file, sep = \"\\t\", header = None)\n",
    "df.columns = [\"p\", \"q\", \"weight\"]\n",
    "nodes     = set(df[\"p\"]).union(set(df[\"q\"]))\n",
    "nodes_map = {node: i for i, node in enumerate(nodes)}\n",
    "with open(json_file, \"w\") as jf:\n",
    "    json.dump(nodes_map, jf)\n",
    "df_annotated = df.replace({\"p\": nodes_map, \"q\": nodes_map})\n",
    "df_annotated.to_csv(f\"{output_folder}/annotate_{network}.tsv\", \n",
    "                    header = False, \n",
    "                    index = False, \n",
    "                    sep = \"\\t\")\n",
    "df_annotated\n",
    "\"\"\""
   ]
  },
  {
   "cell_type": "code",
   "execution_count": 38,
   "id": "8c550d95",
   "metadata": {},
   "outputs": [],
   "source": [
    "# NODE2VEC ARGS\n",
    "args      = {}\n",
    "args[\"p\"] = 1\n",
    "args[\"q\"] = 1\n",
    "args[\"dimensions\"] = 300\n",
    "args[\"num_walks\"]  = 10\n",
    "args[\"intermediate_file_loc\"] = f\"{output_folder}/{network}_text_dim_{args['dimensions']}.emb\"\n",
    "args[\"final_emb\"]             = f\"{output_folder}/{network}_emb_dim_{args['dimensions']}.npy\""
   ]
  },
  {
   "cell_type": "code",
   "execution_count": 16,
   "id": "f3015943",
   "metadata": {},
   "outputs": [
    {
     "data": {
      "text/html": [
       "<div>\n",
       "<style scoped>\n",
       "    .dataframe tbody tr th:only-of-type {\n",
       "        vertical-align: middle;\n",
       "    }\n",
       "\n",
       "    .dataframe tbody tr th {\n",
       "        vertical-align: top;\n",
       "    }\n",
       "\n",
       "    .dataframe thead th {\n",
       "        text-align: right;\n",
       "    }\n",
       "</style>\n",
       "<table border=\"1\" class=\"dataframe\">\n",
       "  <thead>\n",
       "    <tr style=\"text-align: right;\">\n",
       "      <th></th>\n",
       "      <th>0</th>\n",
       "      <th>1</th>\n",
       "      <th>2</th>\n",
       "    </tr>\n",
       "  </thead>\n",
       "  <tbody>\n",
       "    <tr>\n",
       "      <th>0</th>\n",
       "      <td>163</td>\n",
       "      <td>2349</td>\n",
       "      <td>0.898801</td>\n",
       "    </tr>\n",
       "    <tr>\n",
       "      <th>1</th>\n",
       "      <td>3283</td>\n",
       "      <td>1459</td>\n",
       "      <td>0.004207</td>\n",
       "    </tr>\n",
       "    <tr>\n",
       "      <th>2</th>\n",
       "      <td>1725</td>\n",
       "      <td>1565</td>\n",
       "      <td>0.394838</td>\n",
       "    </tr>\n",
       "    <tr>\n",
       "      <th>3</th>\n",
       "      <td>455</td>\n",
       "      <td>2894</td>\n",
       "      <td>0.004177</td>\n",
       "    </tr>\n",
       "    <tr>\n",
       "      <th>4</th>\n",
       "      <td>245</td>\n",
       "      <td>19</td>\n",
       "      <td>0.004201</td>\n",
       "    </tr>\n",
       "    <tr>\n",
       "      <th>...</th>\n",
       "      <td>...</td>\n",
       "      <td>...</td>\n",
       "      <td>...</td>\n",
       "    </tr>\n",
       "    <tr>\n",
       "      <th>27465</th>\n",
       "      <td>351</td>\n",
       "      <td>6</td>\n",
       "      <td>0.004178</td>\n",
       "    </tr>\n",
       "    <tr>\n",
       "      <th>27466</th>\n",
       "      <td>3420</td>\n",
       "      <td>1722</td>\n",
       "      <td>0.987240</td>\n",
       "    </tr>\n",
       "    <tr>\n",
       "      <th>27467</th>\n",
       "      <td>1559</td>\n",
       "      <td>1386</td>\n",
       "      <td>0.985707</td>\n",
       "    </tr>\n",
       "    <tr>\n",
       "      <th>27468</th>\n",
       "      <td>2287</td>\n",
       "      <td>1202</td>\n",
       "      <td>0.004253</td>\n",
       "    </tr>\n",
       "    <tr>\n",
       "      <th>27469</th>\n",
       "      <td>201</td>\n",
       "      <td>389</td>\n",
       "      <td>0.971406</td>\n",
       "    </tr>\n",
       "  </tbody>\n",
       "</table>\n",
       "<p>27470 rows × 3 columns</p>\n",
       "</div>"
      ],
      "text/plain": [
       "          0     1         2\n",
       "0       163  2349  0.898801\n",
       "1      3283  1459  0.004207\n",
       "2      1725  1565  0.394838\n",
       "3       455  2894  0.004177\n",
       "4       245    19  0.004201\n",
       "...     ...   ...       ...\n",
       "27465   351     6  0.004178\n",
       "27466  3420  1722  0.987240\n",
       "27467  1559  1386  0.985707\n",
       "27468  2287  1202  0.004253\n",
       "27469   201   389  0.971406\n",
       "\n",
       "[27470 rows x 3 columns]"
      ]
     },
     "execution_count": 16,
     "metadata": {},
     "output_type": "execute_result"
    }
   ],
   "source": [
    "df_annotated = pd.read_csv(f\"{output_folder}/annotate_{network}.tsv\", sep = \"\\t\", header = None)\n",
    "df_annotated"
   ]
  },
  {
   "cell_type": "code",
   "execution_count": 17,
   "id": "c0e7f2ec",
   "metadata": {},
   "outputs": [],
   "source": [
    "edgelist = list(df_annotated.to_records(index = False))"
   ]
  },
  {
   "cell_type": "code",
   "execution_count": 28,
   "id": "4818f337",
   "metadata": {},
   "outputs": [
    {
     "name": "stdout",
     "output_type": "stream",
     "text": [
      "Walk iteration:\n",
      "1 / 10\n",
      "2 / 10\n",
      "3 / 10\n",
      "4 / 10\n",
      "5 / 10\n",
      "6 / 10\n",
      "7 / 10\n",
      "8 / 10\n",
      "9 / 10\n",
      "10 / 10\n",
      "{'p': 1, 'q': 1, 'dimensions': 300, 'num_walks': 10, 'intermediate_file_loc': '../datasets/Analysis//fly_ppi_text_dim_300.emb', 'input': 'karate.edgelist', 'walk-length': 80, 'num-walks': 10, 'window-size': 10, 'iter': 1, 'workers': 8, 'weighted': True, 'unweighted': False, 'directed': False, 'undirected': True}\n",
      "Here\n"
     ]
    },
    {
     "name": "stderr",
     "output_type": "stream",
     "text": [
      "../topsy_turvy/comparison_methods/n2vec_embedding.py:81: VisibleDeprecationWarning: Creating an ndarray from ragged nested sequences (which is a list-or-tuple of lists-or-tuples-or ndarrays with different lengths or shapes) is deprecated. If you meant to do this, you must specify 'dtype=object' when creating the ndarray.\n",
      "  emb = np.array(emb)\n"
     ]
    }
   ],
   "source": [
    "embeddings = compute_embedding(edgelist, args)"
   ]
  },
  {
   "cell_type": "code",
   "execution_count": 34,
   "id": "e6369180",
   "metadata": {},
   "outputs": [],
   "source": [
    "import numpy as np\n",
    "n_nodes = 0\n",
    "n_emb   = 0\n",
    "with open(args[\"intermediate_file_loc\"], \"r\") as ef:\n",
    "    n_nodes, n_emb = ef.readline().strip().split(\" \")\n",
    "    n_nodes        = int(n_nodes)\n",
    "    n_emb          = int(n_emb)\n",
    "    embeddings     = np.zeros((n_nodes, n_emb))\n",
    "    \n",
    "    for line in ef:\n",
    "        emb        = line.strip().split(\" \")\n",
    "        index      = int(emb[0])\n",
    "        features   = [float(f_i) for f_i in emb[1:]]\n",
    "        embeddings[index] = features"
   ]
  },
  {
   "cell_type": "code",
   "execution_count": 39,
   "id": "f74b0611",
   "metadata": {},
   "outputs": [],
   "source": [
    "np.save(args[\"final_emb\"], embeddings) "
   ]
  },
  {
   "cell_type": "code",
   "execution_count": 40,
   "id": "1749235b",
   "metadata": {},
   "outputs": [],
   "source": [
    "emb = np.load(args[\"final_emb\"])"
   ]
  },
  {
   "cell_type": "code",
   "execution_count": null,
   "id": "86675f0f",
   "metadata": {},
   "outputs": [],
   "source": []
  },
  {
   "cell_type": "code",
   "execution_count": null,
   "id": "86eac4b0",
   "metadata": {},
   "outputs": [],
   "source": []
  }
 ],
 "metadata": {
  "kernelspec": {
   "display_name": "Python 3 (ipykernel)",
   "language": "python",
   "name": "python3"
  },
  "language_info": {
   "codemirror_mode": {
    "name": "ipython",
    "version": 3
   },
   "file_extension": ".py",
   "mimetype": "text/x-python",
   "name": "python",
   "nbconvert_exporter": "python",
   "pygments_lexer": "ipython3",
   "version": "3.7.12"
  }
 },
 "nbformat": 4,
 "nbformat_minor": 5
}
